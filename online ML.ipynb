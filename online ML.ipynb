{
 "cells": [
  {
   "cell_type": "code",
   "execution_count": 1,
   "id": "41969f9f",
   "metadata": {},
   "outputs": [],
   "source": [
    "#!pip install river\n",
    "#!pip install creme"
   ]
  },
  {
   "cell_type": "code",
   "execution_count": 2,
   "id": "c9533fb1",
   "metadata": {},
   "outputs": [],
   "source": [
    "#!pip install sklearn"
   ]
  },
  {
   "cell_type": "code",
   "execution_count": 3,
   "id": "34aea26e",
   "metadata": {},
   "outputs": [
    {
     "name": "stderr",
     "output_type": "stream",
     "text": [
      "C:\\Users\\dedee\\AppData\\Roaming\\Python\\Python310\\site-packages\\scipy\\__init__.py:146: UserWarning: A NumPy version >=1.16.5 and <1.23.0 is required for this version of SciPy (detected version 1.23.3\n",
      "  warnings.warn(f\"A NumPy version >={np_minversion} and <{np_maxversion}\"\n"
     ]
    }
   ],
   "source": [
    "import pandas as pd\n",
    "import river\n",
    "import creme\n",
    "import re\n",
    "from sklearn.model_selection import train_test_split\n",
    "#import numpy as np"
   ]
  },
  {
   "cell_type": "code",
   "execution_count": 4,
   "id": "4575dc14",
   "metadata": {},
   "outputs": [],
   "source": [
    "from river import metrics\n"
   ]
  },
  {
   "cell_type": "code",
   "execution_count": 5,
   "id": "b4ee2a40",
   "metadata": {},
   "outputs": [],
   "source": [
    "df = pd.read_csv('cyberbullying_tweets.csv')"
   ]
  },
  {
   "cell_type": "code",
   "execution_count": 6,
   "id": "88313124",
   "metadata": {},
   "outputs": [],
   "source": [
    "df = df.sample(frac = 1)"
   ]
  },
  {
   "cell_type": "code",
   "execution_count": 7,
   "id": "00a6393f",
   "metadata": {},
   "outputs": [
    {
     "data": {
      "text/html": [
       "<div>\n",
       "<style scoped>\n",
       "    .dataframe tbody tr th:only-of-type {\n",
       "        vertical-align: middle;\n",
       "    }\n",
       "\n",
       "    .dataframe tbody tr th {\n",
       "        vertical-align: top;\n",
       "    }\n",
       "\n",
       "    .dataframe thead th {\n",
       "        text-align: right;\n",
       "    }\n",
       "</style>\n",
       "<table border=\"1\" class=\"dataframe\">\n",
       "  <thead>\n",
       "    <tr style=\"text-align: right;\">\n",
       "      <th></th>\n",
       "      <th>tweet_text</th>\n",
       "      <th>cyberbullying_type</th>\n",
       "    </tr>\n",
       "  </thead>\n",
       "  <tbody>\n",
       "    <tr>\n",
       "      <th>40935</th>\n",
       "      <td>Fuck dat sad ass hoe dawg ! Lol @ThaCockyKind:...</td>\n",
       "      <td>ethnicity</td>\n",
       "    </tr>\n",
       "    <tr>\n",
       "      <th>12341</th>\n",
       "      <td>Really.... is that what you got out of all of ...</td>\n",
       "      <td>gender</td>\n",
       "    </tr>\n",
       "    <tr>\n",
       "      <th>14705</th>\n",
       "      <td>Christian jokes. Islam jokes. Abortion jokes. ...</td>\n",
       "      <td>gender</td>\n",
       "    </tr>\n",
       "    <tr>\n",
       "      <th>29909</th>\n",
       "      <td>@alexlifschitz YUP.</td>\n",
       "      <td>other_cyberbullying</td>\n",
       "    </tr>\n",
       "    <tr>\n",
       "      <th>33763</th>\n",
       "      <td>I hated them... I wanted them to be leaked. My...</td>\n",
       "      <td>age</td>\n",
       "    </tr>\n",
       "  </tbody>\n",
       "</table>\n",
       "</div>"
      ],
      "text/plain": [
       "                                              tweet_text   cyberbullying_type\n",
       "40935  Fuck dat sad ass hoe dawg ! Lol @ThaCockyKind:...            ethnicity\n",
       "12341  Really.... is that what you got out of all of ...               gender\n",
       "14705  Christian jokes. Islam jokes. Abortion jokes. ...               gender\n",
       "29909                                @alexlifschitz YUP.  other_cyberbullying\n",
       "33763  I hated them... I wanted them to be leaked. My...                  age"
      ]
     },
     "execution_count": 7,
     "metadata": {},
     "output_type": "execute_result"
    }
   ],
   "source": [
    "df.head()"
   ]
  },
  {
   "cell_type": "code",
   "execution_count": 8,
   "id": "eecb4665",
   "metadata": {},
   "outputs": [
    {
     "name": "stderr",
     "output_type": "stream",
     "text": [
      "C:\\Users\\dedee\\AppData\\Local\\Temp/ipykernel_239160/1079813231.py:1: FutureWarning: The default value of regex will change from True to False in a future version.\n",
      "  df['tweet_text'] = df['tweet_text'].str.replace('http[s]?://(?:[a-zA-Z]|[0-9]|[$-_@.&+]|[!*\\(\\),]|(?:%[0-9a-fA-F][0-9a-fA-F]))+', ' ')\n"
     ]
    }
   ],
   "source": [
    "df['tweet_text'] = df['tweet_text'].str.replace('http[s]?://(?:[a-zA-Z]|[0-9]|[$-_@.&+]|[!*\\(\\),]|(?:%[0-9a-fA-F][0-9a-fA-F]))+', ' ')"
   ]
  },
  {
   "cell_type": "code",
   "execution_count": 9,
   "id": "c2a6f81d",
   "metadata": {},
   "outputs": [
    {
     "data": {
      "text/plain": [
       "Index(['tweet_text', 'cyberbullying_type'], dtype='object')"
      ]
     },
     "execution_count": 9,
     "metadata": {},
     "output_type": "execute_result"
    }
   ],
   "source": [
    "df.columns"
   ]
  },
  {
   "cell_type": "code",
   "execution_count": 10,
   "id": "e2a96369",
   "metadata": {},
   "outputs": [
    {
     "data": {
      "text/plain": [
       "(47692, 2)"
      ]
     },
     "execution_count": 10,
     "metadata": {},
     "output_type": "execute_result"
    }
   ],
   "source": [
    "df.shape"
   ]
  },
  {
   "cell_type": "code",
   "execution_count": 11,
   "id": "004b0a3a",
   "metadata": {},
   "outputs": [
    {
     "data": {
      "text/html": [
       "<div>\n",
       "<style scoped>\n",
       "    .dataframe tbody tr th:only-of-type {\n",
       "        vertical-align: middle;\n",
       "    }\n",
       "\n",
       "    .dataframe tbody tr th {\n",
       "        vertical-align: top;\n",
       "    }\n",
       "\n",
       "    .dataframe thead th {\n",
       "        text-align: right;\n",
       "    }\n",
       "</style>\n",
       "<table border=\"1\" class=\"dataframe\">\n",
       "  <thead>\n",
       "    <tr style=\"text-align: right;\">\n",
       "      <th></th>\n",
       "      <th>tweet_text</th>\n",
       "    </tr>\n",
       "    <tr>\n",
       "      <th>cyberbullying_type</th>\n",
       "      <th></th>\n",
       "    </tr>\n",
       "  </thead>\n",
       "  <tbody>\n",
       "    <tr>\n",
       "      <th>age</th>\n",
       "      <td>7992</td>\n",
       "    </tr>\n",
       "    <tr>\n",
       "      <th>ethnicity</th>\n",
       "      <td>7961</td>\n",
       "    </tr>\n",
       "    <tr>\n",
       "      <th>gender</th>\n",
       "      <td>7973</td>\n",
       "    </tr>\n",
       "    <tr>\n",
       "      <th>not_cyberbullying</th>\n",
       "      <td>7945</td>\n",
       "    </tr>\n",
       "    <tr>\n",
       "      <th>other_cyberbullying</th>\n",
       "      <td>7823</td>\n",
       "    </tr>\n",
       "    <tr>\n",
       "      <th>religion</th>\n",
       "      <td>7998</td>\n",
       "    </tr>\n",
       "  </tbody>\n",
       "</table>\n",
       "</div>"
      ],
      "text/plain": [
       "                     tweet_text\n",
       "cyberbullying_type             \n",
       "age                        7992\n",
       "ethnicity                  7961\n",
       "gender                     7973\n",
       "not_cyberbullying          7945\n",
       "other_cyberbullying        7823\n",
       "religion                   7998"
      ]
     },
     "execution_count": 11,
     "metadata": {},
     "output_type": "execute_result"
    }
   ],
   "source": [
    "df.groupby('cyberbullying_type').count()"
   ]
  },
  {
   "cell_type": "code",
   "execution_count": 12,
   "id": "5759cc0e",
   "metadata": {},
   "outputs": [
    {
     "data": {
      "text/plain": [
       "tweet_text            0\n",
       "cyberbullying_type    0\n",
       "dtype: int64"
      ]
     },
     "execution_count": 12,
     "metadata": {},
     "output_type": "execute_result"
    }
   ],
   "source": [
    "df.isnull().sum()"
   ]
  },
  {
   "cell_type": "code",
   "execution_count": 13,
   "id": "22713c99",
   "metadata": {},
   "outputs": [],
   "source": [
    "df1 = df[:47600]"
   ]
  },
  {
   "cell_type": "code",
   "execution_count": 14,
   "id": "eb5470fe",
   "metadata": {},
   "outputs": [],
   "source": [
    "df2 = df[47600:]"
   ]
  },
  {
   "cell_type": "code",
   "execution_count": 15,
   "id": "5a5ed114",
   "metadata": {},
   "outputs": [
    {
     "name": "stdout",
     "output_type": "stream",
     "text": [
      "(47600, 2)\n",
      "(92, 2)\n"
     ]
    }
   ],
   "source": [
    "print(df1.shape)\n",
    "print(df2.shape)"
   ]
  },
  {
   "cell_type": "code",
   "execution_count": 16,
   "id": "39a66851",
   "metadata": {},
   "outputs": [
    {
     "data": {
      "text/html": [
       "<div>\n",
       "<style scoped>\n",
       "    .dataframe tbody tr th:only-of-type {\n",
       "        vertical-align: middle;\n",
       "    }\n",
       "\n",
       "    .dataframe tbody tr th {\n",
       "        vertical-align: top;\n",
       "    }\n",
       "\n",
       "    .dataframe thead th {\n",
       "        text-align: right;\n",
       "    }\n",
       "</style>\n",
       "<table border=\"1\" class=\"dataframe\">\n",
       "  <thead>\n",
       "    <tr style=\"text-align: right;\">\n",
       "      <th></th>\n",
       "      <th>tweet_text</th>\n",
       "    </tr>\n",
       "    <tr>\n",
       "      <th>cyberbullying_type</th>\n",
       "      <th></th>\n",
       "    </tr>\n",
       "  </thead>\n",
       "  <tbody>\n",
       "    <tr>\n",
       "      <th>age</th>\n",
       "      <td>18</td>\n",
       "    </tr>\n",
       "    <tr>\n",
       "      <th>ethnicity</th>\n",
       "      <td>11</td>\n",
       "    </tr>\n",
       "    <tr>\n",
       "      <th>gender</th>\n",
       "      <td>18</td>\n",
       "    </tr>\n",
       "    <tr>\n",
       "      <th>not_cyberbullying</th>\n",
       "      <td>18</td>\n",
       "    </tr>\n",
       "    <tr>\n",
       "      <th>other_cyberbullying</th>\n",
       "      <td>11</td>\n",
       "    </tr>\n",
       "    <tr>\n",
       "      <th>religion</th>\n",
       "      <td>16</td>\n",
       "    </tr>\n",
       "  </tbody>\n",
       "</table>\n",
       "</div>"
      ],
      "text/plain": [
       "                     tweet_text\n",
       "cyberbullying_type             \n",
       "age                          18\n",
       "ethnicity                    11\n",
       "gender                       18\n",
       "not_cyberbullying            18\n",
       "other_cyberbullying          11\n",
       "religion                     16"
      ]
     },
     "execution_count": 16,
     "metadata": {},
     "output_type": "execute_result"
    }
   ],
   "source": [
    "df2.groupby('cyberbullying_type').count()"
   ]
  },
  {
   "cell_type": "code",
   "execution_count": 17,
   "id": "9224e7d2",
   "metadata": {},
   "outputs": [],
   "source": [
    "train_ds,test_ds=train_test_split(df1)"
   ]
  },
  {
   "cell_type": "code",
   "execution_count": 18,
   "id": "ffeefdd1",
   "metadata": {},
   "outputs": [
    {
     "name": "stdout",
     "output_type": "stream",
     "text": [
      "(35700, 2)\n",
      "(11900, 2)\n"
     ]
    }
   ],
   "source": [
    "print(train_ds.shape)\n",
    "print(test_ds.shape)"
   ]
  },
  {
   "cell_type": "code",
   "execution_count": 19,
   "id": "8ecb8b96",
   "metadata": {},
   "outputs": [],
   "source": [
    "from river.naive_bayes import MultinomialNB"
   ]
  },
  {
   "cell_type": "code",
   "execution_count": 20,
   "id": "a2fc1659",
   "metadata": {},
   "outputs": [],
   "source": [
    "from river.feature_extraction import BagOfWords,TFIDF"
   ]
  },
  {
   "cell_type": "code",
   "execution_count": 21,
   "id": "2900fc0c",
   "metadata": {},
   "outputs": [],
   "source": [
    "from river.compose import Pipeline"
   ]
  },
  {
   "cell_type": "code",
   "execution_count": 22,
   "id": "7b5907b7",
   "metadata": {},
   "outputs": [],
   "source": [
    "train_ds = train_ds.to_records(index=False)\n"
   ]
  },
  {
   "cell_type": "code",
   "execution_count": 23,
   "id": "19da3bdd",
   "metadata": {},
   "outputs": [
    {
     "data": {
      "text/plain": [
       "rec.array([(\"Scoring like a Cunt because you can't cook for shit isn't fighting hard Kat.... You stupid mole #mkr\", 'gender'),\n",
       "           ('GRECIAN FUCK SHOES.', 'other_cyberbullying'),\n",
       "           ('That’s not necessarily a homophobic joke. It’s def annoying! But it’s more of a rape joke than a gay joke. Generally b/c the “tops” of the joke are heterosexual. But I get it! It’s dumb. But it doesn’t mean allies are any less supportive of our community as a whole. It’s a joke.', 'gender'),\n",
       "           ...,\n",
       "           ('Racism is wen u select your white clothes to wash before the colored ones... Say no to Racism!!! Wash them all together :D', 'ethnicity'),\n",
       "           ('Also Rihanna is my fave. Shes that popular girl in school who’s actually nice &amp; sticks up to the bully who thinks their popular cause they continuously put other pple down to look “cool” in front of their friends.', 'age'),\n",
       "           ('Ramzan preaches spreading anti hindu hatred? Ever uttered a word on islamic terrorism? That’s the real terrorism whole world is a victim of. The incidents u r referring to are crimes and criminals already convicted.', 'religion')],\n",
       "          dtype=[('tweet_text', 'O'), ('cyberbullying_type', 'O')])"
      ]
     },
     "execution_count": 23,
     "metadata": {},
     "output_type": "execute_result"
    }
   ],
   "source": [
    "train_ds"
   ]
  },
  {
   "cell_type": "code",
   "execution_count": 24,
   "id": "32589682",
   "metadata": {},
   "outputs": [],
   "source": [
    "pline = Pipeline(('vectorizer',TFIDF()),('nb',MultinomialNB()))"
   ]
  },
  {
   "cell_type": "code",
   "execution_count": 25,
   "id": "c6438123",
   "metadata": {},
   "outputs": [
    {
     "data": {
      "text/html": [
       "<div><div class=\"river-component river-pipeline\"><details class=\"river-component river-estimator\"><summary class=\"river-summary\"><pre class=\"river-estimator-name\">TFIDF</pre></summary><code class=\"river-estimator-params\">(\n",
       "  normalize=True\n",
       "  on=None\n",
       "  strip_accents=True\n",
       "  lowercase=True\n",
       "  preprocessor=None\n",
       "  tokenizer=None\n",
       "  ngram_range=(1, 1)\n",
       ")\n",
       "\n",
       "</code></details><details class=\"river-component river-estimator\"><summary class=\"river-summary\"><pre class=\"river-estimator-name\">MultinomialNB</pre></summary><code class=\"river-estimator-params\">(\n",
       "  alpha=1.\n",
       ")\n",
       "\n",
       "</code></details></div><style scoped>\n",
       ".river-estimator {\n",
       "    padding: 1em;\n",
       "    border-style: solid;\n",
       "    background: white;\n",
       "}\n",
       "\n",
       ".river-pipeline {\n",
       "    display: flex;\n",
       "    flex-direction: column;\n",
       "    align-items: center;\n",
       "    background: linear-gradient(#000, #000) no-repeat center / 3px 100%;\n",
       "}\n",
       "\n",
       ".river-union {\n",
       "    display: flex;\n",
       "    flex-direction: row;\n",
       "    align-items: center;\n",
       "    justify-content: center;\n",
       "    padding: 1em;\n",
       "    border-style: solid;\n",
       "    background: white;\n",
       "}\n",
       "\n",
       ".river-wrapper {\n",
       "    display: flex;\n",
       "    flex-direction: column;\n",
       "    align-items: center;\n",
       "    justify-content: center;\n",
       "    padding: 1em;\n",
       "    border-style: solid;\n",
       "    background: white;\n",
       "}\n",
       "\n",
       ".river-wrapper > .river-estimator {\n",
       "    margin-top: 1em;\n",
       "}\n",
       "\n",
       "/* Vertical spacing between steps */\n",
       "\n",
       ".river-component + .river-component {\n",
       "    margin-top: 2em;\n",
       "}\n",
       "\n",
       ".river-union > .river-estimator {\n",
       "    margin-top: 0;\n",
       "}\n",
       "\n",
       ".river-union > .pipeline {\n",
       "    margin-top: 0;\n",
       "}\n",
       "\n",
       "/* Spacing within a union of estimators */\n",
       "\n",
       ".river-union > .river-component + .river-component {\n",
       "    margin-left: 1em;\n",
       "}\n",
       "\n",
       "/* Typography */\n",
       "\n",
       ".river-estimator-params {\n",
       "    display: block;\n",
       "    white-space: pre-wrap;\n",
       "    font-size: 120%;\n",
       "    margin-bottom: -1em;\n",
       "}\n",
       "\n",
       ".river-estimator > .river-estimator-params,\n",
       ".river-wrapper > .river-details > river-estimator-params {\n",
       "    background-color: white !important;\n",
       "}\n",
       "\n",
       ".river-estimator-name {\n",
       "    display: inline;\n",
       "    margin: 0;\n",
       "    font-size: 130%;\n",
       "}\n",
       "\n",
       "/* Toggle */\n",
       "\n",
       ".river-summary {\n",
       "    display: flex;\n",
       "    align-items:center;\n",
       "    cursor: pointer;\n",
       "}\n",
       "\n",
       ".river-summary > div {\n",
       "    width: 100%;\n",
       "}\n",
       "</style></div>"
      ],
      "text/plain": [
       "Pipeline (\n",
       "  TFIDF (\n",
       "    normalize=True\n",
       "    on=None\n",
       "    strip_accents=True\n",
       "    lowercase=True\n",
       "    preprocessor=None\n",
       "    tokenizer=None\n",
       "    ngram_range=(1, 1)\n",
       "  ),\n",
       "  MultinomialNB (\n",
       "    alpha=1.\n",
       "  )\n",
       ")"
      ]
     },
     "execution_count": 25,
     "metadata": {},
     "output_type": "execute_result"
    }
   ],
   "source": [
    "pline"
   ]
  },
  {
   "cell_type": "code",
   "execution_count": 26,
   "id": "755639c8",
   "metadata": {},
   "outputs": [
    {
     "data": {
      "text/plain": [
       "OrderedDict([('vectorizer',\n",
       "              TFIDF (\n",
       "                normalize=True\n",
       "                on=None\n",
       "                strip_accents=True\n",
       "                lowercase=True\n",
       "                preprocessor=None\n",
       "                tokenizer=None\n",
       "                ngram_range=(1, 1)\n",
       "              )),\n",
       "             ('nb',\n",
       "              MultinomialNB (\n",
       "                alpha=1.\n",
       "              ))])"
      ]
     },
     "execution_count": 26,
     "metadata": {},
     "output_type": "execute_result"
    }
   ],
   "source": [
    "pline.steps"
   ]
  },
  {
   "cell_type": "code",
   "execution_count": 27,
   "id": "6670e03d",
   "metadata": {},
   "outputs": [],
   "source": [
    "for text,label in train_ds:\n",
    "    pline = pline.learn_one(text,label)"
   ]
  },
  {
   "cell_type": "code",
   "execution_count": 28,
   "id": "a3f08161",
   "metadata": {},
   "outputs": [
    {
     "data": {
      "text/plain": [
       "{'gender': 0.8288199594156551,\n",
       " 'other_cyberbullying': 0.03948328901890589,\n",
       " 'religion': 0.04105196262135837,\n",
       " 'ethnicity': 0.030515837163547548,\n",
       " 'age': 0.026000046279746426,\n",
       " 'not_cyberbullying': 0.034128905500786386}"
      ]
     },
     "execution_count": 28,
     "metadata": {},
     "output_type": "execute_result"
    }
   ],
   "source": [
    "pline.predict_proba_one(\"do not make sucide jokes\")"
   ]
  },
  {
   "cell_type": "code",
   "execution_count": 29,
   "id": "f3b5bb26",
   "metadata": {},
   "outputs": [
    {
     "data": {
      "text/html": [
       "<div>\n",
       "<style scoped>\n",
       "    .dataframe tbody tr th:only-of-type {\n",
       "        vertical-align: middle;\n",
       "    }\n",
       "\n",
       "    .dataframe tbody tr th {\n",
       "        vertical-align: top;\n",
       "    }\n",
       "\n",
       "    .dataframe thead th {\n",
       "        text-align: right;\n",
       "    }\n",
       "</style>\n",
       "<table border=\"1\" class=\"dataframe\">\n",
       "  <thead>\n",
       "    <tr style=\"text-align: right;\">\n",
       "      <th></th>\n",
       "      <th>tweet_text</th>\n",
       "      <th>cyberbullying_type</th>\n",
       "    </tr>\n",
       "  </thead>\n",
       "  <tbody>\n",
       "    <tr>\n",
       "      <th>25982</th>\n",
       "      <td>What the shit.</td>\n",
       "      <td>other_cyberbullying</td>\n",
       "    </tr>\n",
       "    <tr>\n",
       "      <th>1031</th>\n",
       "      <td>ACHEI UM TEMA o/ bullying contra casais homoss...</td>\n",
       "      <td>not_cyberbullying</td>\n",
       "    </tr>\n",
       "  </tbody>\n",
       "</table>\n",
       "</div>"
      ],
      "text/plain": [
       "                                              tweet_text   cyberbullying_type\n",
       "25982                                     What the shit.  other_cyberbullying\n",
       "1031   ACHEI UM TEMA o/ bullying contra casais homoss...    not_cyberbullying"
      ]
     },
     "execution_count": 29,
     "metadata": {},
     "output_type": "execute_result"
    }
   ],
   "source": [
    "test_ds.iloc[:2]"
   ]
  },
  {
   "cell_type": "code",
   "execution_count": 30,
   "id": "b76cdfd4",
   "metadata": {},
   "outputs": [],
   "source": [
    "test_ds = test_ds.to_records(index = False)"
   ]
  },
  {
   "cell_type": "code",
   "execution_count": 31,
   "id": "1ec53d06",
   "metadata": {},
   "outputs": [],
   "source": [
    "metric = river.metrics.Accuracy()"
   ]
  },
  {
   "cell_type": "code",
   "execution_count": 32,
   "id": "cd57cad8",
   "metadata": {},
   "outputs": [],
   "source": [
    "for text,label in test_ds:\n",
    "    y_pred = pline.predict_one(text)\n",
    "    metric = metric.update(label,y_pred)\n",
    "    pline = pline.learn_one(text,label)"
   ]
  },
  {
   "cell_type": "code",
   "execution_count": 33,
   "id": "ff50b4bd",
   "metadata": {},
   "outputs": [
    {
     "data": {
      "text/plain": [
       "Accuracy: 76.23%"
      ]
     },
     "execution_count": 33,
     "metadata": {},
     "output_type": "execute_result"
    }
   ],
   "source": [
    "metric"
   ]
  },
  {
   "cell_type": "code",
   "execution_count": null,
   "id": "c1edd18d",
   "metadata": {},
   "outputs": [],
   "source": []
  }
 ],
 "metadata": {
  "kernelspec": {
   "display_name": "Python 3 (ipykernel)",
   "language": "python",
   "name": "python3"
  },
  "language_info": {
   "codemirror_mode": {
    "name": "ipython",
    "version": 3
   },
   "file_extension": ".py",
   "mimetype": "text/x-python",
   "name": "python",
   "nbconvert_exporter": "python",
   "pygments_lexer": "ipython3",
   "version": "3.10.1"
  }
 },
 "nbformat": 4,
 "nbformat_minor": 5
}
